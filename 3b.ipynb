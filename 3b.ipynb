{
  "nbformat": 4,
  "nbformat_minor": 0,
  "metadata": {
    "colab": {
      "name": "3b.ipynb",
      "version": "0.3.2",
      "provenance": []
    },
    "kernelspec": {
      "name": "python3",
      "display_name": "Python 3"
    },
    "accelerator": "GPU"
  },
  "cells": [
    {
      "metadata": {
        "id": "kjwaSMxhQ886",
        "colab_type": "code",
        "colab": {
          "base_uri": "https://localhost:8080/",
          "height": 1261
        },
        "outputId": "534a7743-7d23-4671-d6e4-ff7b62e03d40"
      },
      "cell_type": "code",
      "source": [
        "import math\n",
        "import random\n",
        "import numpy as np\n",
        "import pandas as pd\n",
        "from tqdm import tqdm\n",
        "import matplotlib.pylab as plt\n",
        "import copy\n",
        "from multiprocessing import Pool\n",
        "\n",
        "class Node:\n",
        "    def __init__(self, predict, parent_feature_val =None, data=None, values=None):\n",
        "        if values is None:\n",
        "            values = {}\n",
        "        self.data = data\n",
        "        self.values = values\n",
        "        self.parent_feature_val = parent_feature_val\n",
        "        self.predict = predict\n",
        "\n",
        "\n",
        "def create_data(m,  k=21):\n",
        "    col_names = []\n",
        "    weights = []\n",
        "    sum = 0\n",
        "    for i in range(k):\n",
        "        col_names.append(\"X\" + str(i))\n",
        "    col_names.append(\"Y\")\n",
        "    data = []\n",
        "    for i in range(m):\n",
        "        lst = []\n",
        "        counts=0\n",
        "        lst.append(random.randint(0, 1))\n",
        "        for j in range(1, 15):\n",
        "            choices = [lst[j-1], 1-lst[j-1]]\n",
        "            prob = [0.75, 0.25]\n",
        "            lst.append(np.random.choice(choices, p=prob))\n",
        "        for j in range(15,21):\n",
        "            lst.append(random.randint(0,1))\n",
        "        if lst[0]==0:\n",
        "            counts = np.bincount(np.array(lst[1:8]))\n",
        "        else:\n",
        "            counts = np.bincount(np.array(lst[8:15]))\n",
        "        lst.append(np.argmax(counts))\n",
        "        data.append(lst)\n",
        "\n",
        "    return pd.DataFrame(data, columns=col_names)\n",
        "\n",
        "\n",
        "class DecisionTreeID3:\n",
        "\n",
        "    def __init__(self,tree=None):\n",
        "        self.tree=tree\n",
        "\n",
        "    def _entropy(self,y):\n",
        "\n",
        "        res=0\n",
        "        prob=dict(y.value_counts(normalize=True))\n",
        "        for key in prob:\n",
        "            res-= prob[key]*np.log2(prob[key])\n",
        "        return res\n",
        "\n",
        "\n",
        "    def _max_info_gain(self,data):\n",
        "        info_gain={}\n",
        "        for i in list(data)[:-1]:\n",
        "            res=0\n",
        "            entr={}\n",
        "            x=dict(data[i].value_counts(normalize=True))\n",
        "            for key in x:\n",
        "                data_split=self._split(data,key,i)\n",
        "                entr[key]=self._entropy(data_split[\"Y\"])\n",
        "                res+=x[key]*entr[key]\n",
        "            info_gain[i]=self._entropy(data[\"Y\"])-res\n",
        "\n",
        "        return info_gain\n",
        "\n",
        "    def _split(self, data, key, feature):\n",
        "        \n",
        "        return data[data[feature] == key]\n",
        "\n",
        "\n",
        "\n",
        "    def fit_tree(self,data,s=None, tree = None):\n",
        "        if s==None:\n",
        "          s=0\n",
        "        if tree == None:\n",
        "            tree = Node(predict =-1)\n",
        "            self.tree = tree\n",
        "        if len(data[\"Y\"].unique())==1:\n",
        "            tree.data=-1\n",
        "            tree.predict=int(data[\"Y\"].unique())\n",
        "            return\n",
        "        if len(data[\"Y\"])<=s:\n",
        "            tree.data=-1\n",
        "            sample_predict=data[\"Y\"].tolist()\n",
        "            tree.predict=(max(set(sample_predict), key=sample_predict.count))\n",
        "            return\n",
        "         \n",
        "        #if len(data[\"Y\"].unique())==0:\n",
        "        #    return\n",
        "        info_gain=self._max_info_gain(data)\n",
        "        feature=max(info_gain,key= lambda k:info_gain[k])\n",
        "        tree.data=feature\n",
        "        for i in data[feature].unique():\n",
        "            temp = Node(predict = -1)\n",
        "            tree.values[i]= temp\n",
        "        for j in tree.values:\n",
        "            #if len(data[\"Y\"].unique()!=1 and tree.data!=-1):\n",
        "            data_split=self._split(data,j,feature)\n",
        "            self.fit_tree(data_split,s,tree.values[j])\n",
        "\n",
        "\n",
        "    def _predict_row(self,tree,row):\n",
        "        current_node=tree\n",
        "        feature = current_node.data\n",
        "        while(feature!=-1):\n",
        "            x=row[current_node.data]\n",
        "            current_node=current_node.values[int(row[current_node.data])]\n",
        "            feature = current_node.data\n",
        "        return current_node.predict\n",
        "\n",
        "\n",
        "    def predict (self, data):\n",
        "\n",
        "        y = []\n",
        "\n",
        "        for i in range(data.shape[0]):\n",
        "            predicted_val = (self._predict_row(self.tree, data.iloc[[i]]))\n",
        "            y.append(predicted_val)\n",
        "        return y\n",
        "\n",
        "    def error (self, test_data):\n",
        "        wrong_prediction_count = 0\n",
        "        predicted_values = self.predict(test_data)\n",
        "        for i in range(len(predicted_values)):\n",
        "            if predicted_values[i] != test_data[\"Y\"][i]:\n",
        "                wrong_prediction_count+= 1\n",
        "        #print(predicted_values)\n",
        "        #print(test_data[\"Y\"])\n",
        "        return wrong_prediction_count/len(test_data)\n",
        "\n",
        "    #def fun(self, data):\n",
        "     #   m = data[0]\n",
        "      #  test_data = data[1]\n",
        "       # self.fit_tree(create_data(m),tree=None)\n",
        "        #iter_error=(self.error(test_data))\n",
        "        #return iter_error\n",
        "\n",
        "\n",
        "    def typical_error (self, m):\n",
        "        test_data = create_data(300)\n",
        "        error_on_m = []\n",
        "        for k in range(10):\n",
        "             self.fit_tree(create_data(m),tree=None)\n",
        "             iter_error = 0\n",
        "             iter_error=(self.error(test_data))\n",
        "             error_on_m.append(iter_error)\n",
        "        return sum(error_on_m)/10\n",
        "\n",
        "    def find_irrelevant_features(self,tree,feature_list):\n",
        "        temp=tree\n",
        "\n",
        "        if temp:\n",
        "            children = temp.values\n",
        "            if temp.data in [\"X15\",\"X16\",\"X17\",\"X18\",\"X19\",\"X20\"]:\n",
        "                feature_list.append(temp.data)\n",
        "            for i in children:\n",
        "                self.find_irrelevant_features(children[i],feature_list)\n",
        "        return set(feature_list)\n",
        "\n",
        "\n",
        "feature_list=[]\n",
        "\n",
        "tup_list=[]\n",
        "dict_train={}\n",
        "dict_test={}\n",
        "data=create_data(10000)\n",
        "train_data,test_data=data[:8001].reset_index(drop=True),data[8001:].reset_index(drop=True)\n",
        "model=DecisionTreeID3()\n",
        "size=[1,100,1000,10000,50000,100000]\n",
        "dict_depth={}\n",
        "for i in tqdm(range(1,1000,100)):\n",
        "    number_of_irr_features=0\n",
        "    for j in range(5):\n",
        "          feature_list=[]\n",
        "          model = DecisionTreeID3()\n",
        "          model.fit_tree(create_data(8000),30,model.tree)\n",
        "          number_of_irr_features+=len(model.find_irrelevant_features(model.tree,feature_list))\n",
        "    dict_depth[i]=(number_of_irr_features/5)\n",
        "    print(dict_depth)\n",
        "# plot_dict(dict_train)\n",
        "# plot_dict(dict_test)\n",
        "\n",
        "\n",
        "\n",
        "# for m in tqdm(range(1,1000,100)):\n",
        "#     number_of_irr_features=0\n",
        "\n",
        "\n",
        "\n",
        "#     for i in (range(10)):\n",
        "#         feature_list=[]\n",
        "#         model = DecisionTreeID3()\n",
        "#         model.fit_tree(create_data(m))\n",
        "#         number_of_irr_features+=len(model.find_irrelevant_features(model.tree,feature_list))\n",
        "#     dict_m[m]=(number_of_irr_features/10)\n",
        "\n",
        "\n",
        "# Question 3\n",
        "\n",
        "# data = create_data(10000)\n",
        "# train_data = data[:8001] #splitting the train data\n",
        "# test_data=data[8001:] # splitting the test data\n",
        "# dict_error={}# dictionary to hold values of error with depth as keys\n",
        "# for i in tqdm(range(21)):\n",
        "\n",
        "\n",
        "\n",
        "\n",
        "\n",
        "\n",
        "\n",
        "\n",
        "\n",
        "\n",
        "\n",
        "\n",
        "\n",
        "\n",
        "\n",
        "\n",
        "\n",
        "\n",
        "\n",
        "\n",
        "\n",
        "\n",
        "\n",
        "\n",
        "\n"
      ],
      "execution_count": 7,
      "outputs": [
        {
          "output_type": "stream",
          "text": [
            "\n",
            "\n",
            "\n",
            "\n",
            "\n",
            "  0%|          | 0/10 [00:00<?, ?it/s]\u001b[A\u001b[A\u001b[A\u001b[A\u001b[A\n",
            "\n",
            "\n",
            "\n",
            "\n",
            " 10%|█         | 1/10 [02:04<18:44, 124.93s/it]\u001b[A\u001b[A\u001b[A\u001b[A\u001b[A"
          ],
          "name": "stderr"
        },
        {
          "output_type": "stream",
          "text": [
            "{1: 0.4}\n"
          ],
          "name": "stdout"
        },
        {
          "output_type": "stream",
          "text": [
            "\n",
            "\n",
            "\n",
            "\n",
            "\n",
            " 20%|██        | 2/10 [04:09<16:37, 124.70s/it]\u001b[A\u001b[A\u001b[A\u001b[A\u001b[A"
          ],
          "name": "stderr"
        },
        {
          "output_type": "stream",
          "text": [
            "{1: 0.4, 101: 0.6}\n"
          ],
          "name": "stdout"
        },
        {
          "output_type": "stream",
          "text": [
            "\n",
            "\n",
            "\n",
            "\n",
            "\n",
            " 30%|███       | 3/10 [06:12<14:31, 124.45s/it]\u001b[A\u001b[A\u001b[A\u001b[A\u001b[A"
          ],
          "name": "stderr"
        },
        {
          "output_type": "stream",
          "text": [
            "{1: 0.4, 101: 0.6, 201: 0.6}\n"
          ],
          "name": "stdout"
        },
        {
          "output_type": "stream",
          "text": [
            "\n",
            "\n",
            "\n",
            "\n",
            "\n",
            " 40%|████      | 4/10 [08:14<12:21, 123.57s/it]\u001b[A\u001b[A\u001b[A\u001b[A\u001b[A"
          ],
          "name": "stderr"
        },
        {
          "output_type": "stream",
          "text": [
            "{1: 0.4, 101: 0.6, 201: 0.6, 301: 1.2}\n"
          ],
          "name": "stdout"
        },
        {
          "output_type": "stream",
          "text": [
            "\n",
            "\n",
            "\n",
            "\n",
            "\n",
            " 50%|█████     | 5/10 [10:13<10:11, 122.20s/it]\u001b[A\u001b[A\u001b[A\u001b[A\u001b[A"
          ],
          "name": "stderr"
        },
        {
          "output_type": "stream",
          "text": [
            "{1: 0.4, 101: 0.6, 201: 0.6, 301: 1.2, 401: 0.2}\n"
          ],
          "name": "stdout"
        },
        {
          "output_type": "stream",
          "text": [
            "\n",
            "\n",
            "\n",
            "\n",
            "\n",
            " 60%|██████    | 6/10 [12:14<08:07, 121.86s/it]\u001b[A\u001b[A\u001b[A\u001b[A\u001b[A"
          ],
          "name": "stderr"
        },
        {
          "output_type": "stream",
          "text": [
            "{1: 0.4, 101: 0.6, 201: 0.6, 301: 1.2, 401: 0.2, 501: 1.0}\n"
          ],
          "name": "stdout"
        },
        {
          "output_type": "stream",
          "text": [
            "\n",
            "\n",
            "\n",
            "\n",
            "\n",
            " 70%|███████   | 7/10 [14:19<06:08, 122.88s/it]\u001b[A\u001b[A\u001b[A\u001b[A\u001b[A"
          ],
          "name": "stderr"
        },
        {
          "output_type": "stream",
          "text": [
            "{1: 0.4, 101: 0.6, 201: 0.6, 301: 1.2, 401: 0.2, 501: 1.0, 601: 0.4}\n"
          ],
          "name": "stdout"
        },
        {
          "output_type": "stream",
          "text": [
            "\n",
            "\n",
            "\n",
            "\n",
            "\n",
            " 80%|████████  | 8/10 [16:23<04:06, 123.17s/it]\u001b[A\u001b[A\u001b[A\u001b[A\u001b[A"
          ],
          "name": "stderr"
        },
        {
          "output_type": "stream",
          "text": [
            "{1: 0.4, 101: 0.6, 201: 0.6, 301: 1.2, 401: 0.2, 501: 1.0, 601: 0.4, 701: 0.6}\n"
          ],
          "name": "stdout"
        },
        {
          "output_type": "stream",
          "text": [
            "\n",
            "\n",
            "\n",
            "\n",
            "\n",
            " 90%|█████████ | 9/10 [18:25<02:02, 122.74s/it]\u001b[A\u001b[A\u001b[A\u001b[A\u001b[A"
          ],
          "name": "stderr"
        },
        {
          "output_type": "stream",
          "text": [
            "{1: 0.4, 101: 0.6, 201: 0.6, 301: 1.2, 401: 0.2, 501: 1.0, 601: 0.4, 701: 0.6, 801: 1.4}\n"
          ],
          "name": "stdout"
        },
        {
          "output_type": "stream",
          "text": [
            "\n",
            "\n",
            "\n",
            "\n",
            "\n",
            "100%|██████████| 10/10 [20:23<00:00, 121.38s/it]\u001b[A\u001b[A\u001b[A\u001b[A\u001b[A\n",
            "\n",
            "\n",
            "\n",
            "\n",
            "\u001b[A\u001b[A\u001b[A\u001b[A\u001b[A"
          ],
          "name": "stderr"
        },
        {
          "output_type": "stream",
          "text": [
            "{1: 0.4, 101: 0.6, 201: 0.6, 301: 1.2, 401: 0.2, 501: 1.0, 601: 0.4, 701: 0.6, 801: 1.4, 901: 0.2}\n"
          ],
          "name": "stdout"
        }
      ]
    },
    {
      "metadata": {
        "id": "kHBMpSLLPTPs",
        "colab_type": "code",
        "colab": {
          "base_uri": "https://localhost:8080/",
          "height": 361
        },
        "outputId": "34232a38-dd3e-48e9-aee5-55f54b21701e"
      },
      "cell_type": "code",
      "source": [
        "import matplotlib.pyplot as plt\n",
        "plt.plot((dict_depth.keys()),(dict_depth.values()))\n",
        "plt.xlabel(\"Size of the train data(m)\")\n",
        "plt.ylabel(\"Number of Spurious variables\")\n",
        "plt.show()"
      ],
      "execution_count": 8,
      "outputs": [
        {
          "output_type": "display_data",
          "data": {
            "image/png": "[encoded data removed]",
            "text/plain": [
              "<Figure size 576x396 with 1 Axes>"
            ]
          },
          "metadata": {
            "tags": []
          }
        }
      ]
    },
    {
      "metadata": {
        "id": "oN6V54jmW59y",
        "colab_type": "code",
        "colab": {}
      },
      "cell_type": "code",
      "source": [
        "import matplotlib.pylab as plt\n",
        "\n",
        "def plot_dict(dict_m):\n",
        "    lists = sorted(dict_depth.items()) # sorted by key, return a list of tuples\n",
        "    x, y = zip(*lists) # unpack a list of pairs into two tuples\n",
        "\n",
        "    plt.plot(x, y)\n",
        "    plt.xlabel(\"\")\n",
        "plt.show()"
      ],
      "execution_count": 0,
      "outputs": []
    },
    {
      "metadata": {
        "id": "BHVnRwiFel-p",
        "colab_type": "code",
        "colab": {}
      },
      "cell_type": "code",
      "source": [
        "model=DecisionTreeID3()\n",
        "model.fit_tree(train_data,10,model.tree)\n"
      ],
      "execution_count": 0,
      "outputs": []
    },
    {
      "metadata": {
        "id": "WgNm5ehLfLmV",
        "colab_type": "code",
        "colab": {
          "base_uri": "https://localhost:8080/",
          "height": 35
        },
        "outputId": "0f8d49f2-d6a7-40b4-dc6c-6e74a32119bb"
      },
      "cell_type": "code",
      "source": [
        "model.error(test_data)"
      ],
      "execution_count": 27,
      "outputs": [
        {
          "output_type": "execute_result",
          "data": {
            "text/plain": [
              "0.021510755377688845"
            ]
          },
          "metadata": {
            "tags": []
          },
          "execution_count": 27
        }
      ]
    },
    {
      "metadata": {
        "id": "347tXD2cW9VP",
        "colab_type": "code",
        "colab": {
          "base_uri": "https://localhost:8080/",
          "height": 676
        },
        "outputId": "7ad10122-0b4e-4433-e645-1758fb33fdcf"
      },
      "cell_type": "code",
      "source": [
        "plot_dict(dict_train)\n",
        "plot_dict(dict_test)"
      ],
      "execution_count": 19,
      "outputs": [
        {
          "output_type": "display_data",
          "data": {
            "image/png": "[encoded data removed]",
            "text/plain": [
              "<Figure size 576x396 with 1 Axes>"
            ]
          },
          "metadata": {
            "tags": []
          }
        },
        {
          "output_type": "display_data",
          "data": {
            "image/png": "[encoded data removed]",
            "text/plain": [
              "<Figure size 576x396 with 1 Axes>"
            ]
          },
          "metadata": {
            "tags": []
          }
        }
      ]
    },
    {
      "metadata": {
        "id": "FiRU8y978uHi",
        "colab_type": "code",
        "colab": {
          "base_uri": "https://localhost:8080/",
          "height": 361
        },
        "outputId": "99c7ac08-2318-4f02-8bb7-73095e68f3be"
      },
      "cell_type": "code",
      "source": [
        "import matplotlib.pyplot as plt\n",
        "plt.plot(list(dict_train.keys()),list(dict_train.values()),label=\"Train\")\n",
        "plt.plot(list(dict_test.keys()),list(dict_test.values()),label=\"Test\")\n",
        "plt.xlabel(\"Pruned_sample_size\")\n",
        "plt.ylabel(\"Error\")\n",
        "plt.legend()\n",
        "plt.show()\n",
        "\n"
      ],
      "execution_count": 5,
      "outputs": [
        {
          "output_type": "display_data",
          "data": {
            "image/png": "[encoded data removed]",
            "text/plain": [
              "<Figure size 576x396 with 1 Axes>"
            ]
          },
          "metadata": {
            "tags": []
          }
        }
      ]
    }
  ]
}