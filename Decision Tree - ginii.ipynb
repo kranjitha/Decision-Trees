{
 "cells": [
  {
   "cell_type": "code",
   "execution_count": 41,
   "metadata": {},
   "outputs": [],
   "source": [
    "import numpy as np\n",
    "def partition(a):\n",
    "    return {c: (a==c).nonzero()[0] for c in np.unique(a)}\n",
    "def gini(s):\n",
    "    res = 0\n",
    "    val, counts = np.unique(s, return_counts=True)\n",
    "    freqs = counts.astype('float')/len(s)\n",
    "    for p in freqs:\n",
    "        if p != 0.0:\n",
    "            res -= p *(p)\n",
    "    return 1+res\n",
    "def gini_gain(y, x):\n",
    "\n",
    "    res = entropy(y)\n",
    "    val, counts = np.unique(x, return_counts=True)\n",
    "    freqs = counts.astype('float')/len(x)\n",
    "    for p, v in zip(freqs, val):\n",
    "        res -= p*entropy(y[x == v])\n",
    "\n",
    "    return res\n",
    "from pprint import pprint\n",
    "\n",
    "def is_pure(s):\n",
    "    return len(set(s)) == 1\n",
    "\n",
    "def recursive_split(x, y):\n",
    "\n",
    "    gain = np.array([gini(y, x_attr) for x_attr in x.T])\n",
    "    selected_attr = np.argmax(gain)\n",
    "    if np.all(gain < 1e-6):\n",
    "        return y\n",
    "    sets = partition(x[:, selected_attr])\n",
    "\n",
    "    res = {}\n",
    "    for k, v in sets.items():\n",
    "        y_subset = y.take(v, axis=0)\n",
    "        x_subset = x.take(v, axis=0)\n",
    "\n",
    "        res[\"x_%d = %d\" % (selected_attr, k)] = recursive_split(x_subset, y_subset)\n",
    "        \n",
    "\n",
    "    return res\n",
    "\n",
    "#X = np.array([x1, x2]).T\n",
    "y=np.array([1,0,0,1,0,0,1,1,0,1])\n",
    "dict_tree=recursive_split(data_xy[0],data_xy[1])"
   ]
  },
  {
   "cell_type": "code",
   "execution_count": 42,
   "metadata": {},
   "outputs": [],
   "source": [
    "error_dict={}\n",
    "Test_data = create_train_data(10,100)\n",
    "def error_calc(m):\n",
    "    \n",
    "    \n",
    "    for i in range(10):\n",
    "        lst=[]\n",
    "        \n",
    "        data_xy=data_generator(10,m)\n",
    "    \n",
    "        \n",
    "        X_test_data = Test_data[0]\n",
    "        Y_test_data = Test_data[1]\n",
    "        Y_pred = []\n",
    "        for item in X_test_data:\n",
    "            temp_dict = recursive_split(data_xy[0],data_xy[1])\n",
    "            while(type(temp_dict) is dict):\n",
    "                key_list = []\n",
    "                for j in temp_dict.keys():\n",
    "                    key_list.append(j)\n",
    "        #print(key_list)\n",
    "                feat = key_list[0][2]\n",
    "                temp = item[int(feat)]\n",
    "                temp_dict = temp_dict[key_list[temp]] \n",
    "        #print(temp_dict)\n",
    "            Y_pred.append(temp_dict[0])\n",
    "        count = 0\n",
    "        for i in range(len(X_test_data)):\n",
    "            if Y_pred[i] != Y_test_data[i]:\n",
    "                count +=1\n",
    "        \n",
    "        temp_error = count/len(X_test_data)\n",
    "        lst.append(temp_error)\n",
    "        \n",
    "    error_dict[m]=sum(lst)/10\n"
   ]
  },
  {
   "cell_type": "code",
   "execution_count": 46,
   "metadata": {},
   "outputs": [
    {
     "name": "stderr",
     "output_type": "stream",
     "text": [
      "100%|██████████| 20/20 [33:00<00:00, 144.56s/it]\n"
     ]
    },
    {
     "data": {
      "text/plain": [
       "{1: 0.04,\n",
       " 51: 0.023,\n",
       " 101: 0.019,\n",
       " 151: 0.014000000000000002,\n",
       " 201: 0.015,\n",
       " 251: 0.01,\n",
       " 301: 0.012,\n",
       " 351: 0.008,\n",
       " 401: 0.009,\n",
       " 451: 0.01,\n",
       " 501: 0.01,\n",
       " 551: 0.007000000000000001,\n",
       " 601: 0.007000000000000001,\n",
       " 651: 0.01,\n",
       " 701: 0.005,\n",
       " 751: 0.009,\n",
       " 801: 0.009,\n",
       " 851: 0.004,\n",
       " 901: 0.01,\n",
       " 951: 0.004}"
      ]
     },
     "execution_count": 46,
     "metadata": {},
     "output_type": "execute_result"
    }
   ],
   "source": [
    "errr_dict={}\n",
    "from statistics import mean \n",
    "from tqdm import tqdm\n",
    "\n",
    "x=[]\n",
    "for i in tqdm(range(1,1000,50)):\n",
    "    error_calc(i)\n",
    "error_dict"
   ]
  },
  {
   "cell_type": "code",
   "execution_count": 47,
   "metadata": {},
   "outputs": [
    {
     "data": {
      "image/png": "[encoded data removed]",
      "text/plain": [
       "<Figure size 432x288 with 1 Axes>"
      ]
     },
     "metadata": {
      "needs_background": "light"
     },
     "output_type": "display_data"
    }
   ],
   "source": [
    "import matplotlib.pylab as plt\n",
    "lists = sorted(error_dict.items()) # sorted by key, return a list of tuples\n",
    "x, y = zip(*lists) #\n",
    "plt.plot(x, y)\n",
    "plt.show()"
   ]
  },
  {
   "cell_type": "code",
   "execution_count": 48,
   "metadata": {},
   "outputs": [],
   "source": [
    "error_dict={1: 0.065,\n",
    " 51: 0.018,\n",
    " 101: 0.013000000000000001,\n",
    " 151: 0.015,\n",
    " 201: 0.003,\n",
    " 251: 0.012,\n",
    " 301: 0.011,\n",
    " 351: 0.004,\n",
    " 401: 0.004,\n",
    " 451: 0.003,\n",
    " 501: 0.003,\n",
    " 551: 0.005,\n",
    " 601: 0.002,\n",
    " 651: 0.003,\n",
    " 701: 0.008,\n",
    " 751: 0.004,\n",
    " 801: 0.002,\n",
    " 851: 0.003,\n",
    " 901: 0.001,\n",
    " 951: 0.0,\n",
    " 1001: 0.002,\n",
    " 1051: 0.002,\n",
    " 1101: 0.002,\n",
    " 1151: 0.002,\n",
    " 1201: 0.005,\n",
    " 1251: 0.003,\n",
    " 1301: 0.002,\n",
    " 1351: 0.003,\n",
    " 1401: 0.004,\n",
    " 1451: 0.0,\n",
    " 1501: 0.0,\n",
    " 1551: 0.0,\n",
    " 1601: 0.001,\n",
    " 1651: 0.002,\n",
    " 1701: 0.002,\n",
    " 1751: 0.001,\n",
    " 1801: 0.001,\n",
    " 1851: 0.001,\n",
    " 1901: 0.001,\n",
    " 1951: 0.002}"
   ]
  },
  {
   "cell_type": "code",
   "execution_count": 49,
   "metadata": {},
   "outputs": [
    {
     "data": {
      "image/png": "[encoded data removed]",
      "text/plain": [
       "<Figure size 432x288 with 1 Axes>"
      ]
     },
     "metadata": {
      "needs_background": "light"
     },
     "output_type": "display_data"
    }
   ],
   "source": [
    "import matplotlib.pylab as plt\n",
    "lists = sorted(error_dict.items()) # sorted by key, return a list of tuples\n",
    "x, y = zip(*lists) #\n",
    "plt.plot(x, y)\n",
    "plt.show()"
   ]
  },
  {
   "cell_type": "code",
   "execution_count": 50,
   "metadata": {},
   "outputs": [
    {
     "data": {
      "text/plain": [
       "{300: 0.009}"
      ]
     },
     "execution_count": 50,
     "metadata": {},
     "output_type": "execute_result"
    }
   ],
   "source": [
    "error_dict={}\n",
    "error_calc(300)\n",
    "error_dict"
   ]
  },
  {
   "cell_type": "code",
   "execution_count": null,
   "metadata": {},
   "outputs": [],
   "source": []
  }
 ],
 "metadata": {
  "kernelspec": {
   "display_name": "Python 3",
   "language": "python",
   "name": "python3"
  },
  "language_info": {
   "codemirror_mode": {
    "name": "ipython",
    "version": 3
   },
   "file_extension": ".py",
   "mimetype": "text/x-python",
   "name": "python",
   "nbconvert_exporter": "python",
   "pygments_lexer": "ipython3",
   "version": "3.7.4"
  }
 },
 "nbformat": 4,
 "nbformat_minor": 2
}
