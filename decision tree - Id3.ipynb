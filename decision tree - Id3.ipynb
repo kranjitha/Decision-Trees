{
 "cells": [
  {
   "cell_type": "code",
   "execution_count": 25,
   "metadata": {},
   "outputs": [],
   "source": [
    "ol_names=[]\n",
    "def create_train_data(k,m):\n",
    "    lst=[]\n",
    "    sum=0\n",
    "    weights=[]\n",
    "    \n",
    "    for i in range(k):\n",
    "        col_names.append(\"X\"+str(i+1))\n",
    "    col_names.append(\"Y\")    \n",
    "    \n",
    "    \n",
    "    for u in range(1,k):\n",
    "        sum+=pow(0.9,u)\n",
    "    for u in range(1,k):\n",
    "        weights.append(pow(0.9,i)/sum)\n",
    "        \n",
    "    \n",
    "    \n",
    "        \n",
    "    for i in range(m):\n",
    "        weighted_avg=0\n",
    "        \n",
    "        l=[]\n",
    "        l.append(random.randint(0,1))\n",
    "        for j in range(1,k):\n",
    "            x=random.random()\n",
    "            if x<0.25:\n",
    "                l.append(1-l[-1])\n",
    "            else:\n",
    "                l.append(l[-1])\n",
    "            \n",
    "            \n",
    "        \n",
    "        for b in range(len(weights)):\n",
    "            weighted_avg=l[b+1]*weights[b]\n",
    "        if weighted_avg>=0.5:\n",
    "            l.append(l[0])\n",
    "        else:\n",
    "            l.append(1-l[0])\n",
    "        lst.append(l)\n",
    "    return pd.DataFrame(lst,columns=col_names)\n",
    "import random\n",
    "import numpy as np\n",
    "def data_generator(features, data_points):\n",
    "    data = np.zeros((data_points,features),dtype =np.int8)\n",
    "    Y = np.zeros(data_points)\n",
    "\n",
    "    for i in range(data_points):\n",
    "\n",
    "        data[i][0] = random.choice([0,1])\n",
    "\n",
    "        for k in range(1,features):\n",
    "\n",
    "            choices = [data[i][k-1],1-data[i][k-1]]\n",
    "\n",
    "            prob = [0.75,0.25]\n",
    "\n",
    "            data[i][k] = np.random.choice(choices,p=prob)\n",
    "\n",
    "    weights = np.zeros(features)\n",
    "    sum = 0\n",
    "    for i in range(2,features+1):\n",
    "\n",
    "        sum+= pow(0.9,i)\n",
    "\n",
    "    for j in range(2,features+1):\n",
    "\n",
    "        weights[j-1] = pow(0.9,j)/sum\n",
    "\n",
    "    weights[0]= 0\n",
    "\n",
    "\n",
    "    for i in range(data_points):\n",
    "\n",
    "        weighted_average = 0\n",
    "\n",
    "        for b in range(0,k+1):\n",
    "\n",
    "            weighted_average += data[i][b] * weights[b]\n",
    "\n",
    "\n",
    "        if weighted_average >= 0.5:\n",
    "\n",
    "            Y[i] = data[i][0]\n",
    "\n",
    "        else:\n",
    "\n",
    "            Y[i] = 1 - data[i][0]\n",
    "\n",
    "    return[data, Y]\n",
    "\n",
    "data_xy=data_generator(4,300)\n",
    "\n"
   ]
  },
  {
   "cell_type": "code",
   "execution_count": 26,
   "metadata": {},
   "outputs": [],
   "source": [
    "import numpy as np\n",
    "def partition(a):\n",
    "    return {c: (a==c).nonzero()[0] for c in np.unique(a)}\n",
    "def entropy(s):\n",
    "    res = 0\n",
    "    val, counts = np.unique(s, return_counts=True)\n",
    "    freqs = counts.astype('float')/len(s)\n",
    "    for p in freqs:\n",
    "        if p != 0.0:\n",
    "            res -= p * np.log2(p)\n",
    "    return res\n",
    "def mutual_information(y, x):\n",
    "    res = entropy(y)\n",
    "    val, counts = np.unique(x, return_counts=True)\n",
    "    freqs = counts.astype('float')/len(x)\n",
    "    for p, v in zip(freqs, val):\n",
    "        res -= p * entropy(y[x == v])\n",
    "\n",
    "    return res\n",
    "from pprint import pprint\n",
    "\n",
    "def is_pure(s):\n",
    "    return len(set(s)) == 1\n",
    "\n",
    "def recursive_split(x, y):\n",
    "    gain = np.array([mutual_information(y, x_attr) for x_attr in x.T])\n",
    "    selected_attr = np.argmax(gain)\n",
    "    if np.all(gain < 1e-6):\n",
    "        return y\n",
    "    sets = partition(x[:, selected_attr])\n",
    "\n",
    "    res = {}\n",
    "    for k, v in sets.items():\n",
    "        y_subset = y.take(v, axis=0)\n",
    "        x_subset = x.take(v, axis=0)\n",
    "        res[\"x_%d = %d\" % (selected_attr, k)] = recursive_split(x_subset, y_subset)\n",
    "        \n",
    "\n",
    "    return res\n",
    "\n",
    "#X = np.array([x1, x2]).T\n",
    "y=np.array([1,0,0,1,0,0,1,1,0,1])\n",
    "dict_tree=recursive_split(data_xy[0],data_xy[1])"
   ]
  },
  {
   "cell_type": "code",
   "execution_count": 38,
   "metadata": {},
   "outputs": [],
   "source": [
    "Test_data = data_generator(4,1000)\n",
    "lst=[]\n",
    "X_test_data = Test_data[0]\n",
    "Y_test_data = Test_data[1]\n",
    "Y_pred = []\n",
    "for item in X_test_data:\n",
    "    temp_dict = recursive_split(data_xy[0],data_xy[1])\n",
    "    while(type(temp_dict) is dict):\n",
    "        key_list = []\n",
    "        for j in temp_dict.keys():\n",
    "            key_list.append(j)\n",
    "        #print(key_list)\n",
    "        feat = key_list[0][2]\n",
    "        temp = item[int(feat)]\n",
    "        temp_dict = temp_dict[key_list[temp]] \n",
    "        #print(temp_dict)\n",
    "    Y_pred.append(temp_dict[0])\n",
    "count = 0\n",
    "for i in range(len(X_test_data)):\n",
    "    if Y_pred[i] != Y_test_data[i]:\n",
    "        count +=1\n",
    "        \n",
    "temp_error = count/len(X_test_data)\n",
    "lst.append(temp_error)\n",
    "        \n",
    "error_dict[1]=sum(lst)/10"
   ]
  },
  {
   "cell_type": "code",
   "execution_count": 39,
   "metadata": {},
   "outputs": [
    {
     "data": {
      "text/plain": [
       "[0.0]"
      ]
     },
     "execution_count": 39,
     "metadata": {},
     "output_type": "execute_result"
    }
   ],
   "source": [
    "lst"
   ]
  },
  {
   "cell_type": "code",
   "execution_count": 5,
   "metadata": {},
   "outputs": [],
   "source": [
    "error_dict={}\n",
    "Test_data = data_generator(10,100)\n",
    "def error_calc(m):\n",
    "    \n",
    "    \n",
    "    for i in range(10):\n",
    "        lst=[]\n",
    "        \n",
    "        data_xy=data_generator(10,m)\n",
    "    \n",
    "        \n",
    "        X_test_data = Test_data[0]\n",
    "        Y_test_data = Test_data[1]\n",
    "        Y_pred = []\n",
    "        for item in X_test_data:\n",
    "            temp_dict = recursive_split(data_xy[0],data_xy[1])\n",
    "            while(type(temp_dict) is dict):\n",
    "                key_list = []\n",
    "                for j in temp_dict.keys():\n",
    "                    key_list.append(j)\n",
    "        #print(key_list)\n",
    "                feat = key_list[0][2]\n",
    "                temp = item[int(feat)]\n",
    "                temp_dict = temp_dict[key_list[temp]] \n",
    "        #print(temp_dict)\n",
    "            Y_pred.append(temp_dict[0])\n",
    "        count = 0\n",
    "        for i in range(len(X_test_data)):\n",
    "            if Y_pred[i] != Y_test_data[i]:\n",
    "                count +=1\n",
    "        \n",
    "        temp_error = count/len(X_test_data)\n",
    "        lst.append(temp_error)\n",
    "        \n",
    "    error_dict[m]=sum(lst)/10"
   ]
  },
  {
   "cell_type": "code",
   "execution_count": 27,
   "metadata": {},
   "outputs": [
    {
     "data": {
      "text/plain": [
       "{25: 0.039,\n",
       " 50: 0.019,\n",
       " 75: 0.017,\n",
       " 100: 0.014000000000000002,\n",
       " 125: 0.009,\n",
       " 150: 0.012,\n",
       " 175: 0.01,\n",
       " 200: 0.01,\n",
       " 225: 0.013000000000000001,\n",
       " 250: 0.006,\n",
       " 275: 0.007000000000000001,\n",
       " 300: 0.011,\n",
       " 325: 0.013000000000000001,\n",
       " 350: 0.006,\n",
       " 375: 0.009,\n",
       " 400: 0.007000000000000001,\n",
       " 425: 0.006,\n",
       " 450: 0.005,\n",
       " 475: 0.005,\n",
       " 500: 0.007000000000000001,\n",
       " 525: 0.004,\n",
       " 550: 0.005,\n",
       " 575: 0.004,\n",
       " 600: 0.007000000000000001,\n",
       " 625: 0.006,\n",
       " 650: 0.007000000000000001,\n",
       " 675: 0.004,\n",
       " 700: 0.002,\n",
       " 725: 0.003,\n",
       " 750: 0.005,\n",
       " 775: 0.003,\n",
       " 800: 0.002,\n",
       " 825: 0.003,\n",
       " 850: 0.004,\n",
       " 875: 0.005,\n",
       " 900: 0.001,\n",
       " 925: 0.004,\n",
       " 950: 0.006,\n",
       " 975: 0.005,\n",
       " 1: 0.26299999999999996}"
      ]
     },
     "execution_count": 27,
     "metadata": {},
     "output_type": "execute_result"
    }
   ],
   "source": [
    "error_dict"
   ]
  },
  {
   "cell_type": "code",
   "execution_count": 14,
   "metadata": {},
   "outputs": [
    {
     "name": "stderr",
     "output_type": "stream",
     "text": [
      "100%|██████████| 39/39 [1:21:45<00:00, 146.27s/it]\n"
     ]
    },
    {
     "data": {
      "text/plain": [
       "{25: 0.039,\n",
       " 50: 0.019,\n",
       " 75: 0.017,\n",
       " 100: 0.014000000000000002,\n",
       " 125: 0.009,\n",
       " 150: 0.012,\n",
       " 175: 0.01,\n",
       " 200: 0.01,\n",
       " 225: 0.013000000000000001,\n",
       " 250: 0.006,\n",
       " 275: 0.007000000000000001,\n",
       " 300: 0.011,\n",
       " 325: 0.013000000000000001,\n",
       " 350: 0.006,\n",
       " 375: 0.009,\n",
       " 400: 0.007000000000000001,\n",
       " 425: 0.006,\n",
       " 450: 0.005,\n",
       " 475: 0.005,\n",
       " 500: 0.007000000000000001,\n",
       " 525: 0.004,\n",
       " 550: 0.005,\n",
       " 575: 0.004,\n",
       " 600: 0.007000000000000001,\n",
       " 625: 0.006,\n",
       " 650: 0.007000000000000001,\n",
       " 675: 0.004,\n",
       " 700: 0.002,\n",
       " 725: 0.003,\n",
       " 750: 0.005,\n",
       " 775: 0.003,\n",
       " 800: 0.002,\n",
       " 825: 0.003,\n",
       " 850: 0.004,\n",
       " 875: 0.005,\n",
       " 900: 0.001,\n",
       " 925: 0.004,\n",
       " 950: 0.006,\n",
       " 975: 0.005}"
      ]
     },
     "execution_count": 14,
     "metadata": {},
     "output_type": "execute_result"
    }
   ],
   "source": [
    "from statistics import mean \n",
    "from tqdm import tqdm\n",
    "error_dict={}\n",
    "\n",
    "x=[]\n",
    "for i in tqdm(range(25,1000,25)):\n",
    "    error_calc(i)\n",
    "error_dict\n",
    "        \n",
    "        "
   ]
  },
  {
   "cell_type": "code",
   "execution_count": null,
   "metadata": {},
   "outputs": [],
   "source": [
    "error_dict"
   ]
  },
  {
   "cell_type": "code",
   "execution_count": 9,
   "metadata": {},
   "outputs": [
    {
     "data": {
      "text/plain": [
       "{10: 0.027000000000000003, 300: 0.008}"
      ]
     },
     "execution_count": 9,
     "metadata": {},
     "output_type": "execute_result"
    }
   ],
   "source": [
    "\n",
    "error_dict"
   ]
  },
  {
   "cell_type": "code",
   "execution_count": 15,
   "metadata": {},
   "outputs": [
    {
     "data": {
      "image/png": "[encoded data removed]",
      "text/plain": [
       "<Figure size 432x288 with 1 Axes>"
      ]
     },
     "metadata": {
      "needs_background": "light"
     },
     "output_type": "display_data"
    }
   ],
   "source": [
    "import matplotlib.pylab as plt\n",
    "lists = sorted(error_dict.items()) # sorted by key, return a list of tuples\n",
    "x, y = zip(*lists) #\n",
    "plt.plot(x, y)\n",
    "plt.show()"
   ]
  },
  {
   "cell_type": "code",
   "execution_count": 42,
   "metadata": {},
   "outputs": [],
   "source": [
    "error_dict={}\n",
    "error_calc(4)"
   ]
  },
  {
   "cell_type": "code",
   "execution_count": 43,
   "metadata": {},
   "outputs": [
    {
     "data": {
      "text/plain": [
       "{4: 0.034}"
      ]
     },
     "execution_count": 43,
     "metadata": {},
     "output_type": "execute_result"
    }
   ],
   "source": [
    "error_dict"
   ]
  },
  {
   "cell_type": "code",
   "execution_count": null,
   "metadata": {},
   "outputs": [],
   "source": []
  }
 ],
 "metadata": {
  "kernelspec": {
   "display_name": "Python 3",
   "language": "python",
   "name": "python3"
  },
  "language_info": {
   "codemirror_mode": {
    "name": "ipython",
    "version": 3
   },
   "file_extension": ".py",
   "mimetype": "text/x-python",
   "name": "python",
   "nbconvert_exporter": "python",
   "pygments_lexer": "ipython3",
   "version": "3.7.4"
  }
 },
 "nbformat": 4,
 "nbformat_minor": 2
}
