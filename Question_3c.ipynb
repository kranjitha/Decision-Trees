{
  "nbformat": 4,
  "nbformat_minor": 0,
  "metadata": {
    "colab": {
      "name": "Question 3c.ipynb",
      "version": "0.3.2",
      "provenance": []
    },
    "kernelspec": {
      "name": "python3",
      "display_name": "Python 3"
    }
  },
  "cells": [
    {
      "metadata": {
        "id": "tb4jE53hdv71",
        "colab_type": "code",
        "colab": {}
      },
      "cell_type": "code",
      "source": [
        "import math\n",
        "import random\n",
        "import numpy as np\n",
        "import pandas as pd\n",
        "from tqdm import tqdm\n",
        "import matplotlib.pylab as plt\n",
        "import copy\n",
        "from multiprocessing import Pool\n",
        "\n",
        "class Node:\n",
        "    def __init__(self, predict, parent_feature_val =None, data=None, values=None):\n",
        "        if values is None:\n",
        "            values = {}\n",
        "        self.data = data\n",
        "        self.values = values\n",
        "        self.parent_feature_val = parent_feature_val\n",
        "        self.predict = predict\n",
        "\n",
        "\n",
        "def create_data(m,  k=21):\n",
        "    col_names = []\n",
        "    weights = []\n",
        "    sum = 0\n",
        "    for i in range(k):\n",
        "        col_names.append(\"X\" + str(i))\n",
        "    col_names.append(\"Y\")\n",
        "    data = []\n",
        "    for i in range(m):\n",
        "        lst = []\n",
        "        counts=0\n",
        "        lst.append(random.randint(0, 1))\n",
        "        for j in range(1, 15):\n",
        "            choices = [lst[j-1], 1-lst[j-1]]\n",
        "            prob = [0.75, 0.25]\n",
        "            lst.append(np.random.choice(choices, p=prob))\n",
        "        for j in range(15,21):\n",
        "            lst.append(random.randint(0,1))\n",
        "        if lst[0]==0:\n",
        "            counts = np.bincount(np.array(lst[1:8]))\n",
        "        else:\n",
        "            counts = np.bincount(np.array(lst[8:15]))\n",
        "        lst.append(np.argmax(counts))\n",
        "        data.append(lst)\n",
        "\n",
        "    return pd.DataFrame(data, columns=col_names)\n",
        "\n",
        "\n",
        "class DecisionTreeID3:\n",
        "\n",
        "    def __init__(self,tree=None):\n",
        "        self.tree=tree\n",
        "\n",
        "    def _entropy(self,y):\n",
        "\n",
        "        res=0\n",
        "        prob=dict(y.value_counts(normalize=True))\n",
        "        for key in prob:\n",
        "            res-= prob[key]*np.log2(prob[key])\n",
        "        return res\n",
        "\n",
        "\n",
        "    def _max_info_gain(self,data):\n",
        "        info_gain={}\n",
        "        for i in list(data)[:-1]:\n",
        "            res=0\n",
        "            entr={}\n",
        "            x=dict(data[i].value_counts(normalize=True))\n",
        "            for key in x:\n",
        "                data_split=self._split(data,key,i)\n",
        "                entr[key]=self._entropy(data_split[\"Y\"])\n",
        "                res+=x[key]*entr[key]\n",
        "            info_gain[i]=self._entropy(data[\"Y\"])-res\n",
        "\n",
        "        return info_gain\n",
        "\n",
        "    def _split(self, data, key, feature):\n",
        "        \n",
        "        return data[data[feature] == key]\n",
        "\n",
        "\n",
        "\n",
        "    def fit_tree(self,data,threshhold=None, tree = None):\n",
        "       \n",
        "        if tree == None:\n",
        "            tree = Node(predict =-1)\n",
        "            self.tree = tree\n",
        "        if len(data[\"Y\"].unique())==1:\n",
        "            tree.data=-1\n",
        "            tree.predict=int(data[\"Y\"].unique())\n",
        "            return\n",
        "\n",
        "         \n",
        "        #if len(data[\"Y\"].unique())==0:\n",
        "        #    return\n",
        "        info_gain=self._max_info_gain(data)\n",
        "        feature=max(info_gain,key= lambda k:info_gain[k])\n",
        "        if self.chi_square(data,feature)<threshhold:\n",
        "          return\n",
        "          \n",
        "        tree.data=feature\n",
        "      \n",
        "        for i in data[feature].unique():\n",
        "            temp = Node(predict = -1)\n",
        "            tree.values[i]= temp\n",
        "        for j in tree.values:\n",
        "            #if len(data[\"Y\"].unique()!=1 and tree.data!=-1):\n",
        "            data_split=self._split(data,j,feature)\n",
        "            self.fit_tree(data_split,threshhold,tree.values[j])\n",
        "\n",
        "\n",
        "    def _predict_row(self,tree,row):\n",
        "        current_node=tree\n",
        "        feature = current_node.data\n",
        "        while(feature!=-1 and feature is not None):\n",
        "            x=row[current_node.data]\n",
        "            current_node=current_node.values[int(row[current_node.data])]\n",
        "            feature = current_node.data\n",
        "        return current_node.predict\n",
        "\n",
        "\n",
        "    def predict (self, data):\n",
        "\n",
        "        y = []\n",
        "\n",
        "        for i in range(data.shape[0]):\n",
        "            predicted_val = (self._predict_row(self.tree, data.iloc[[i]]))\n",
        "            y.append(predicted_val)\n",
        "        return y\n",
        "\n",
        "    def error (self, test_data):\n",
        "        wrong_prediction_count = 0\n",
        "        predicted_values = self.predict(test_data)\n",
        "        for i in range(len(predicted_values)):\n",
        "            if predicted_values[i] != test_data[\"Y\"][i]:\n",
        "                wrong_prediction_count+= 1\n",
        "        #print(predicted_values)\n",
        "        #print(test_data[\"Y\"])\n",
        "        return wrong_prediction_count/len(test_data)\n",
        "\n",
        "    #def fun(self, data):\n",
        "     #   m = data[0]\n",
        "      #  test_data = data[1]\n",
        "       # self.fit_tree(create_data(m),tree=None)\n",
        "        #iter_error=(self.error(test_data))\n",
        "        #return iter_error\n",
        "\n",
        "\n",
        "    def typical_error (self, m):\n",
        "        test_data = create_data(300)\n",
        "        error_on_m = []\n",
        "        for k in range(10):\n",
        "             self.fit_tree(create_data(m),tree=None)\n",
        "             iter_error = 0\n",
        "             iter_error=(self.error(test_data))\n",
        "             error_on_m.append(iter_error)\n",
        "        return sum(error_on_m)/10\n",
        "\n",
        "    def find_irrelevant_features(self,tree,feature_list):\n",
        "        temp=tree\n",
        "\n",
        "        if temp:\n",
        "            children = temp.values\n",
        "            if temp.data in [\"X15\",\"X16\",\"X17\",\"X18\",\"X19\",\"X20\"]:\n",
        "                feature_list.append(temp.data)\n",
        "            for i in children:\n",
        "                self.find_irrelevant_features(children[i],feature_list)\n",
        "        return len(set(feature_list))\n",
        "    def chi_square(self,data,feature):\n",
        "        x=dict(data[feature].value_counts(normalize=True))\n",
        "        y_temp=dict(data[\"Y\"].value_counts(normalize=True))\n",
        "        t=0\n",
        "        for i in x:\n",
        "            for j in y_temp:\n",
        "                expected_value= x[i]*y_temp[j]*len(data)\n",
        "                actual_number_of_occurences= len(data[(data[feature]==i) &(data[\"Y\"]==j )])\n",
        "                t+= math.pow((expected_value-actual_number_of_occurences),2)/expected_value\n",
        "        return t\n",
        "\n",
        "\n",
        "# feature_list=[]\n",
        "\n",
        "# tup_list=[]\n",
        "# dict_train={}\n",
        "# dict_test={}\n",
        "# dict_irr={}\n",
        "# data=create_data(10000)\n",
        "# train_data,test_data=data[:8001].reset_index(drop=True),data[8001:].reset_index(drop=True)\n",
        "# model= DecisionTreeID3()\n",
        "\n",
        "# for i in tqdm(np.arange(0,5,0.5)):\n",
        "#   feature_list=[]\n",
        "#   model.fit_tree(train_data,i,model.tree)\n",
        "# #   dict_train[i]=model.error(train_data)\n",
        "# #   dict_test[i]=model.error(test_data)\n",
        "#   dict_irr[i]=model.find_irrelevant_features(model.tree,feature_list)\n",
        "#   print(dict_irr)\n",
        " \n",
        "\n",
        " \n",
        "# plt.plot(list(dict_irr.keys()),list(dict_irr.values()))\n",
        "# plt.xlabel(\"To Threshhold\")\n",
        "# plt.ylabel(\"irrelevant variables\")\n",
        "# plt.show()\n"
      ],
      "execution_count": 0,
      "outputs": []
    },
    {
      "metadata": {
        "id": "LtrcKwZ3sVYV",
        "colab_type": "code",
        "colab": {
          "base_uri": "https://localhost:8080/",
          "height": 1321
        },
        "outputId": "e249ca76-9219-49f7-9731-cfa52c73d147"
      },
      "cell_type": "code",
      "source": [
        "dict_m={}\n",
        "for i in tqdm(range(1,1001,100)):\n",
        "  feature_list=[]\n",
        "  num=0\n",
        "  for j in range(10):\n",
        "      model.fit_tree(create_data(i),3.5,model.tree)\n",
        "#   dict_train[i]=model.error(train_data)\n",
        "#   dict_test[i]=model.error(test_data)\n",
        "      num+=model.find_irrelevant_features(model.tree,feature_list)\n",
        "  dict_m[i]=num/10\n",
        "  print(dict_m)\n",
        " \n",
        "\n",
        " \n",
        "plt.plot(list(dict_m.keys()),list(dict_m.values()))\n",
        "plt.xlabel(\"m (Sample size)\")\n",
        "plt.ylabel(\"irrelevant variables\")\n",
        "plt.show()"
      ],
      "execution_count": 22,
      "outputs": [
        {
          "output_type": "stream",
          "text": [
            "\n",
            "\n",
            "\n",
            "\n",
            "  0%|          | 0/10 [00:00<?, ?it/s]\u001b[A\u001b[A\u001b[A\u001b[A"
          ],
          "name": "stderr"
        },
        {
          "output_type": "stream",
          "text": [
            "{1: 0.0}\n"
          ],
          "name": "stdout"
        },
        {
          "output_type": "stream",
          "text": [
            "\n",
            "\n",
            "\n",
            "\n",
            " 20%|██        | 2/10 [00:13<00:52,  6.51s/it]\u001b[A\u001b[A\u001b[A\u001b[A"
          ],
          "name": "stderr"
        },
        {
          "output_type": "stream",
          "text": [
            "{1: 0.0, 101: 2.8}\n"
          ],
          "name": "stdout"
        },
        {
          "output_type": "stream",
          "text": [
            "\n",
            "\n",
            "\n",
            "\n",
            " 30%|███       | 3/10 [00:33<01:13, 10.56s/it]\u001b[A\u001b[A\u001b[A\u001b[A"
          ],
          "name": "stderr"
        },
        {
          "output_type": "stream",
          "text": [
            "{1: 0.0, 101: 2.8, 201: 3.6}\n"
          ],
          "name": "stdout"
        },
        {
          "output_type": "stream",
          "text": [
            "\n",
            "\n",
            "\n",
            "\n",
            " 40%|████      | 4/10 [01:02<01:37, 16.28s/it]\u001b[A\u001b[A\u001b[A\u001b[A"
          ],
          "name": "stderr"
        },
        {
          "output_type": "stream",
          "text": [
            "{1: 0.0, 101: 2.8, 201: 3.6, 301: 5.3}\n"
          ],
          "name": "stdout"
        },
        {
          "output_type": "stream",
          "text": [
            "\n",
            "\n",
            "\n",
            "\n",
            " 50%|█████     | 5/10 [01:37<01:49, 21.94s/it]\u001b[A\u001b[A\u001b[A\u001b[A"
          ],
          "name": "stderr"
        },
        {
          "output_type": "stream",
          "text": [
            "{1: 0.0, 101: 2.8, 201: 3.6, 301: 5.3, 401: 3.2}\n"
          ],
          "name": "stdout"
        },
        {
          "output_type": "stream",
          "text": [
            "\n",
            "\n",
            "\n",
            "\n",
            " 60%|██████    | 6/10 [02:18<01:50, 27.51s/it]\u001b[A\u001b[A\u001b[A\u001b[A"
          ],
          "name": "stderr"
        },
        {
          "output_type": "stream",
          "text": [
            "{1: 0.0, 101: 2.8, 201: 3.6, 301: 5.3, 401: 3.2, 501: 4.4}\n"
          ],
          "name": "stdout"
        },
        {
          "output_type": "stream",
          "text": [
            "\n",
            "\n",
            "\n",
            "\n",
            " 70%|███████   | 7/10 [03:05<01:39, 33.27s/it]\u001b[A\u001b[A\u001b[A\u001b[A"
          ],
          "name": "stderr"
        },
        {
          "output_type": "stream",
          "text": [
            "{1: 0.0, 101: 2.8, 201: 3.6, 301: 5.3, 401: 3.2, 501: 4.4, 601: 4.6}\n"
          ],
          "name": "stdout"
        },
        {
          "output_type": "stream",
          "text": [
            "\n",
            "\n",
            "\n",
            "\n",
            " 80%|████████  | 8/10 [03:55<01:16, 38.31s/it]\u001b[A\u001b[A\u001b[A\u001b[A"
          ],
          "name": "stderr"
        },
        {
          "output_type": "stream",
          "text": [
            "{1: 0.0, 101: 2.8, 201: 3.6, 301: 5.3, 401: 3.2, 501: 4.4, 601: 4.6, 701: 5.2}\n"
          ],
          "name": "stdout"
        },
        {
          "output_type": "stream",
          "text": [
            "\n",
            "\n",
            "\n",
            "\n",
            " 90%|█████████ | 9/10 [04:53<00:44, 44.38s/it]\u001b[A\u001b[A\u001b[A\u001b[A"
          ],
          "name": "stderr"
        },
        {
          "output_type": "stream",
          "text": [
            "{1: 0.0, 101: 2.8, 201: 3.6, 301: 5.3, 401: 3.2, 501: 4.4, 601: 4.6, 701: 5.2, 801: 5.3}\n"
          ],
          "name": "stdout"
        },
        {
          "output_type": "stream",
          "text": [
            "\n",
            "\n",
            "\n",
            "\n",
            "100%|██████████| 10/10 [05:54<00:00, 49.23s/it]\u001b[A\u001b[A\u001b[A\u001b[A\n",
            "\n",
            "\n",
            "\n",
            "\u001b[A\u001b[A\u001b[A\u001b[A"
          ],
          "name": "stderr"
        },
        {
          "output_type": "stream",
          "text": [
            "{1: 0.0, 101: 2.8, 201: 3.6, 301: 5.3, 401: 3.2, 501: 4.4, 601: 4.6, 701: 5.2, 801: 5.3, 901: 4.7}\n"
          ],
          "name": "stdout"
        },
        {
          "output_type": "display_data",
          "data": {
            "image/png": "[encoded data removed]",
            "text/plain": [
              "<Figure size 576x396 with 1 Axes>"
            ]
          },
          "metadata": {
            "tags": []
          }
        }
      ]
    },
    {
      "metadata": {
        "id": "CYgLD0d3YEgO",
        "colab_type": "code",
        "colab": {}
      },
      "cell_type": "code",
      "source": [
        ""
      ],
      "execution_count": 0,
      "outputs": []
    },
    {
      "metadata": {
        "id": "Bh33KaDF5AN3",
        "colab_type": "code",
        "colab": {
          "base_uri": "https://localhost:8080/",
          "height": 1323
        },
        "outputId": "5d3886d5-2f2c-4aa4-a782-1f532eb152c7"
      },
      "cell_type": "code",
      "source": [
        "for i in tqdm(range(10000,100000,10000)):\n",
        "  feature_list=[]\n",
        "  num=0\n",
        "  for j in range(10):\n",
        "      model.fit_tree(create_data(i),3.5,model.tree)\n",
        "#   dict_train[i]=model.error(train_data)\n",
        "#   dict_test[i]=model.error(test_data)\n",
        "      num+=model.find_irrelevant_features(model.tree,feature_list)\n",
        "  dict_m[i]=num/10\n",
        "  print(dict_m)\n",
        " \n",
        "\n",
        " \n",
        "plt.plot(list(dict_m.keys()),list(dict_m.values()))\n",
        "plt.xlabel(\"m (Sample size)\")\n",
        "plt.ylabel(\"irrelevant variables\")\n",
        "plt.show()"
      ],
      "execution_count": 24,
      "outputs": [
        {
          "output_type": "stream",
          "text": [
            "\n",
            "\n",
            "\n",
            "\n",
            "  0%|          | 0/9 [00:00<?, ?it/s]\u001b[A\u001b[A\u001b[A\u001b[A\n",
            "\n",
            "\n",
            "\n",
            " 11%|█         | 1/9 [03:43<29:46, 223.29s/it]\u001b[A\u001b[A\u001b[A\u001b[A"
          ],
          "name": "stderr"
        },
        {
          "output_type": "stream",
          "text": [
            "{1: 0.0, 101: 2.8, 201: 3.6, 301: 5.3, 401: 3.2, 501: 4.4, 601: 4.6, 701: 5.2, 801: 5.3, 901: 4.7, 2000: 5.1, 3000: 5.5, 4000: 5.6, 5000: 5.3, 6000: 5.5, 7000: 5.3, 8000: 4.5, 9000: 5.2, 10000: 4.1}\n"
          ],
          "name": "stdout"
        },
        {
          "output_type": "stream",
          "text": [
            "\n",
            "\n",
            "\n",
            "\n",
            " 22%|██▏       | 2/9 [08:43<28:45, 246.48s/it]\u001b[A\u001b[A\u001b[A\u001b[A"
          ],
          "name": "stderr"
        },
        {
          "output_type": "stream",
          "text": [
            "{1: 0.0, 101: 2.8, 201: 3.6, 301: 5.3, 401: 3.2, 501: 4.4, 601: 4.6, 701: 5.2, 801: 5.3, 901: 4.7, 2000: 5.1, 3000: 5.5, 4000: 5.6, 5000: 5.3, 6000: 5.5, 7000: 5.3, 8000: 4.5, 9000: 5.2, 10000: 4.1, 20000: 5.5}\n"
          ],
          "name": "stdout"
        },
        {
          "output_type": "stream",
          "text": [
            "\n",
            "\n",
            "\n",
            "\n",
            " 33%|███▎      | 3/9 [14:41<27:58, 279.69s/it]\u001b[A\u001b[A\u001b[A\u001b[A"
          ],
          "name": "stderr"
        },
        {
          "output_type": "stream",
          "text": [
            "{1: 0.0, 101: 2.8, 201: 3.6, 301: 5.3, 401: 3.2, 501: 4.4, 601: 4.6, 701: 5.2, 801: 5.3, 901: 4.7, 2000: 5.1, 3000: 5.5, 4000: 5.6, 5000: 5.3, 6000: 5.5, 7000: 5.3, 8000: 4.5, 9000: 5.2, 10000: 4.1, 20000: 5.5, 30000: 4.3}\n"
          ],
          "name": "stdout"
        },
        {
          "output_type": "stream",
          "text": [
            "\n",
            "\n",
            "\n",
            "\n",
            " 44%|████▍     | 4/9 [21:19<26:17, 315.41s/it]\u001b[A\u001b[A\u001b[A\u001b[A"
          ],
          "name": "stderr"
        },
        {
          "output_type": "stream",
          "text": [
            "{1: 0.0, 101: 2.8, 201: 3.6, 301: 5.3, 401: 3.2, 501: 4.4, 601: 4.6, 701: 5.2, 801: 5.3, 901: 4.7, 2000: 5.1, 3000: 5.5, 4000: 5.6, 5000: 5.3, 6000: 5.5, 7000: 5.3, 8000: 4.5, 9000: 5.2, 10000: 4.1, 20000: 5.5, 30000: 4.3, 40000: 4.8}\n"
          ],
          "name": "stdout"
        },
        {
          "output_type": "stream",
          "text": [
            "\n",
            "\n",
            "\n",
            "\n",
            " 56%|█████▌    | 5/9 [28:43<23:35, 353.82s/it]\u001b[A\u001b[A\u001b[A\u001b[A"
          ],
          "name": "stderr"
        },
        {
          "output_type": "stream",
          "text": [
            "{1: 0.0, 101: 2.8, 201: 3.6, 301: 5.3, 401: 3.2, 501: 4.4, 601: 4.6, 701: 5.2, 801: 5.3, 901: 4.7, 2000: 5.1, 3000: 5.5, 4000: 5.6, 5000: 5.3, 6000: 5.5, 7000: 5.3, 8000: 4.5, 9000: 5.2, 10000: 4.1, 20000: 5.5, 30000: 4.3, 40000: 4.8, 50000: 5.3}\n"
          ],
          "name": "stdout"
        },
        {
          "output_type": "stream",
          "text": [
            "\n",
            "\n",
            "\n",
            "\n",
            " 67%|██████▋   | 6/9 [36:52<19:43, 394.52s/it]\u001b[A\u001b[A\u001b[A\u001b[A"
          ],
          "name": "stderr"
        },
        {
          "output_type": "stream",
          "text": [
            "{1: 0.0, 101: 2.8, 201: 3.6, 301: 5.3, 401: 3.2, 501: 4.4, 601: 4.6, 701: 5.2, 801: 5.3, 901: 4.7, 2000: 5.1, 3000: 5.5, 4000: 5.6, 5000: 5.3, 6000: 5.5, 7000: 5.3, 8000: 4.5, 9000: 5.2, 10000: 4.1, 20000: 5.5, 30000: 4.3, 40000: 4.8, 50000: 5.3, 60000: 5.0}\n"
          ],
          "name": "stdout"
        },
        {
          "output_type": "stream",
          "text": [
            "\n",
            "\n",
            "\n",
            "\n",
            " 78%|███████▊  | 7/9 [45:44<14:31, 435.64s/it]\u001b[A\u001b[A\u001b[A\u001b[A"
          ],
          "name": "stderr"
        },
        {
          "output_type": "stream",
          "text": [
            "{1: 0.0, 101: 2.8, 201: 3.6, 301: 5.3, 401: 3.2, 501: 4.4, 601: 4.6, 701: 5.2, 801: 5.3, 901: 4.7, 2000: 5.1, 3000: 5.5, 4000: 5.6, 5000: 5.3, 6000: 5.5, 7000: 5.3, 8000: 4.5, 9000: 5.2, 10000: 4.1, 20000: 5.5, 30000: 4.3, 40000: 4.8, 50000: 5.3, 60000: 5.0, 70000: 5.4}\n"
          ],
          "name": "stdout"
        },
        {
          "output_type": "stream",
          "text": [
            "\n",
            "\n",
            "\n",
            "\n",
            " 89%|████████▉ | 8/9 [55:20<07:57, 477.83s/it]\u001b[A\u001b[A\u001b[A\u001b[A"
          ],
          "name": "stderr"
        },
        {
          "output_type": "stream",
          "text": [
            "{1: 0.0, 101: 2.8, 201: 3.6, 301: 5.3, 401: 3.2, 501: 4.4, 601: 4.6, 701: 5.2, 801: 5.3, 901: 4.7, 2000: 5.1, 3000: 5.5, 4000: 5.6, 5000: 5.3, 6000: 5.5, 7000: 5.3, 8000: 4.5, 9000: 5.2, 10000: 4.1, 20000: 5.5, 30000: 4.3, 40000: 4.8, 50000: 5.3, 60000: 5.0, 70000: 5.4, 80000: 4.8}\n"
          ],
          "name": "stdout"
        },
        {
          "output_type": "stream",
          "text": [
            "\n",
            "\n",
            "\n",
            "\n",
            "100%|██████████| 9/9 [1:05:32<00:00, 518.18s/it]\u001b[A\u001b[A\u001b[A\u001b[A\n",
            "\n",
            "\n",
            "\n",
            "\u001b[A\u001b[A\u001b[A\u001b[A"
          ],
          "name": "stderr"
        },
        {
          "output_type": "stream",
          "text": [
            "{1: 0.0, 101: 2.8, 201: 3.6, 301: 5.3, 401: 3.2, 501: 4.4, 601: 4.6, 701: 5.2, 801: 5.3, 901: 4.7, 2000: 5.1, 3000: 5.5, 4000: 5.6, 5000: 5.3, 6000: 5.5, 7000: 5.3, 8000: 4.5, 9000: 5.2, 10000: 4.1, 20000: 5.5, 30000: 4.3, 40000: 4.8, 50000: 5.3, 60000: 5.0, 70000: 5.4, 80000: 4.8, 90000: 3.5}\n"
          ],
          "name": "stdout"
        },
        {
          "output_type": "display_data",
          "data": {
            "image/png": "[encoded data removed]",
            "text/plain": [
              "<Figure size 576x396 with 1 Axes>"
            ]
          },
          "metadata": {
            "tags": []
          }
        }
      ]
    },
    {
      "metadata": {
        "id": "AjEeMjYgFDa4",
        "colab_type": "code",
        "colab": {
          "base_uri": "https://localhost:8080/",
          "height": 361
        },
        "outputId": "3b9dce02-5d30-49d4-b5a8-6460a4e9d657"
      },
      "cell_type": "code",
      "source": [
        "dict={1: 0.0, 101: 2.8, 201: 3.6, 301: 5.3, 401: 3.2, 501: 4.4, 601: 4.6, 701: 5.2, 801: 5.3, 901: 4.7, 2000: 5.1, 3000: 5.5, 4000: 5.6, 5000: 5.3, 6000: 5.5, 7000: 5.3, 8000: 4.5, 9000: 5.2, 10000: 4.1, 20000: 5.5, 30000: 4.3, 40000: 4.8, 50000: 5.3, 60000: 5.0, 70000: 5.4, 80000: 2.8, 90000: 2}\n",
        "# for i in tqdm(range(100000,110000,2000)):\n",
        "#   feature_list=[]\n",
        "#   num=0\n",
        "#   for j in range(5):\n",
        "#       model=DecisionTreeID3()\n",
        "#       model.fit_tree(create_data(i),3.5,model.tree)\n",
        "# #   dict_train[i]=model.error(train_data)\n",
        "# #   dict_test[i]=model.error(test_data)\n",
        "#       num+=model.find_irrelevant_features(model.tree,feature_list)\n",
        "#   dict[i]=num/5\n",
        "#   print(dict)\n",
        " \n",
        "\n",
        " \n",
        "plt.plot(list(dict.keys()),list(dict.values()))\n",
        "plt.xlabel(\"m (Sample size)\")\n",
        "plt.ylabel(\"irrelevant variables\")\n",
        "plt.show()"
      ],
      "execution_count": 6,
      "outputs": [
        {
          "output_type": "display_data",
          "data": {
            "image/png": "[encoded data removed]",
            "text/plain": [
              "<Figure size 576x396 with 1 Axes>"
            ]
          },
          "metadata": {
            "tags": []
          }
        }
      ]
    },
    {
      "metadata": {
        "id": "SVHQ2oxOhYun",
        "colab_type": "code",
        "colab": {}
      },
      "cell_type": "code",
      "source": [
        "dict_train={0.0: 0.0, 0.5: 0.0, 1.0: 0.0, 1.5: 0.0004999375078115235, 2.0: 0.001999750031246094, 2.5: 0.01724784401949756, 3.0: 0.031371078615173104, 3.5: 0.049993750781152355, 4.0: 0.0594925634295713, 4.5: 0.11261092363454568}\n",
        "dict_test={0.0: 0.01150575287643822, 0.5: 0.01150575287643822, 1.0: 0.01150575287643822, 1.5: 0.014007003501750876, 2.0: 0.015507753876938469, 2.5: 0.02801400700350175, 3.0: 0.04302151075537769, 3.5: 0.05902951475737869, 4.0: 0.06903451725862932, 4.5: 0.128064032016008}"
      ],
      "execution_count": 0,
      "outputs": []
    },
    {
      "metadata": {
        "id": "sKI78ZK9mrUg",
        "colab_type": "code",
        "outputId": "7ad1e40b-520a-4141-9ff0-8d232ecfb40a",
        "colab": {
          "base_uri": "https://localhost:8080/",
          "height": 361
        }
      },
      "cell_type": "code",
      "source": [
        "import matplotlib.pyplot as plt\n",
        "import numpy as np\n",
        "\n",
        "plt.plot(list(dict_train.keys()),list(dict_train.values()),label=\"Train\")\n",
        "\n",
        "plt.plot(list(dict_test.keys()),list(dict_test.values()),label=\"Test\")\n",
        "plt.xlabel(\"Threshhold values To\")\n",
        "plt.ylabel(\"Error\")\n",
        "plt.legend()\n",
        "\n",
        "\n",
        "plt.show()"
      ],
      "execution_count": 8,
      "outputs": [
        {
          "output_type": "display_data",
          "data": {
            "image/png": "[encoded data removed]",
            "text/plain": [
              "<Figure size 576x396 with 1 Axes>"
            ]
          },
          "metadata": {
            "tags": []
          }
        }
      ]
    },
    {
      "metadata": {
        "id": "B9OPZ8Okm7ZV",
        "colab_type": "code",
        "outputId": "21709252-b1fe-4921-d4ef-2aec28b9fb06",
        "colab": {
          "base_uri": "https://localhost:8080/",
          "height": 70
        }
      },
      "cell_type": "code",
      "source": [
        "dict_test"
      ],
      "execution_count": 0,
      "outputs": [
        {
          "output_type": "execute_result",
          "data": {
            "text/plain": [
              "{0.0: 0.013506753376688344,\n",
              " 0.5: 0.013506753376688344,\n",
              " 1.0: 0.013506753376688344}"
            ]
          },
          "metadata": {
            "tags": []
          },
          "execution_count": 11
        }
      ]
    }
  ]
}