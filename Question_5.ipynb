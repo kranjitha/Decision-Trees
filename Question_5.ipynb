{
  "nbformat": 4,
  "nbformat_minor": 0,
  "metadata": {
    "colab": {
      "name": "Question 5.ipynb",
      "version": "0.3.2",
      "provenance": []
    },
    "kernelspec": {
      "name": "python3",
      "display_name": "Python 3"
    },
    "accelerator": "GPU"
  },
  "cells": [
    {
      "metadata": {
        "id": "dkTyi_sMwcGY",
        "colab_type": "code",
        "colab": {}
      },
      "cell_type": "code",
      "source": [
        "\n",
        "\n",
        "feature_list=[]\n",
        "\n",
        "import math\n",
        "import random\n",
        "import numpy as np\n",
        "import pandas as pd\n",
        "from tqdm import tqdm\n",
        "import matplotlib.pylab as plt\n",
        "import copy\n",
        "from multiprocessing import Pool\n",
        "\n",
        "class Node:\n",
        "    def __init__(self, predict, parent_feature_val =None, data=None, values=None, depth=None):\n",
        "        if values is None:\n",
        "            values = {}\n",
        "        self.data = data\n",
        "        self.values = values\n",
        "        self.parent_feature_val = parent_feature_val\n",
        "        self.predict = predict\n",
        "        self.depth=depth\n",
        "\n",
        "\n",
        "def create_data(m,  k=21):\n",
        "    col_names = []\n",
        "    weights = []\n",
        "    sum = 0\n",
        "    for i in range(k):\n",
        "        col_names.append(\"X\" + str(i + 1))\n",
        "    col_names.append(\"Y\")\n",
        "    data = []\n",
        "    for i in range(m):\n",
        "        lst = []\n",
        "        counts=0\n",
        "        lst.append(random.randint(0, 1))\n",
        "        for j in range(1, 15):\n",
        "            choices = [lst[j-1], 1-lst[j-1]]\n",
        "            prob = [0.75, 0.25]\n",
        "            lst.append(np.random.choice(choices, p=prob))\n",
        "        for j in range(15,21):\n",
        "            lst.append(random.randint(0,1))\n",
        "        if lst[0]==0:\n",
        "            counts = np.bincount(np.array(lst[1:8]))\n",
        "        else:\n",
        "            counts = np.bincount(np.array(lst[8:15]))\n",
        "        lst.append(np.argmax(counts))\n",
        "        data.append(lst)\n",
        "\n",
        "    return pd.DataFrame(data, columns=col_names)\n",
        "\n",
        "class DecisionTreeID3():\n",
        "\n",
        "    def __init__(self,tree=None):\n",
        "        self.tree=tree\n",
        "\n",
        "    def _entropy(self,y):\n",
        "\n",
        "        res=0\n",
        "        prob=dict(y.value_counts(normalize=True))\n",
        "        for key in prob:\n",
        "            res-= prob[key]*np.log2(prob[key])\n",
        "        return res\n",
        "\n",
        "\n",
        "    def _max_info_gain(self,data):\n",
        "        info_gain={}\n",
        "        for i in list(data)[:-1]:\n",
        "            res=0\n",
        "            entr={}\n",
        "            x=dict(data[i].value_counts(normalize=True))\n",
        "            for key in x:\n",
        "                data_split=self._split(data,key,i)\n",
        "                entr[key]=self._entropy(data_split[\"Y\"])\n",
        "                res+=x[key]*entr[key]\n",
        "            info_gain[i]=self._entropy(data[\"Y\"])-res\n",
        "\n",
        "        return info_gain\n",
        "\n",
        "    def _split(self, data, key, feature):\n",
        "        return data[data[feature] == key]\n",
        "\n",
        "\n",
        "\n",
        "    def fit_tree(self,data, tree = None):\n",
        "        if tree == None:\n",
        "            tree = Node(predict =-1, depth=0)\n",
        "            self.tree = tree\n",
        "        if len(data[\"Y\"].unique())==1:\n",
        "            tree.data=-1\n",
        "            tree.predict=int(data[\"Y\"].unique())\n",
        "            return\n",
        "\n",
        "        #if len(data[\"Y\"].unique())==0:\n",
        "        #    return\n",
        "        info_gain=self._max_info_gain(data)\n",
        "        feature=max(info_gain,key= lambda k:info_gain[k])\n",
        "        tree.data=feature\n",
        "        for i in data[feature].unique():\n",
        "            temp = Node(predict = -1,depth=tree.depth+1)\n",
        "            tree.values[i]= temp\n",
        "        for j in tree.values:\n",
        "            #if len(data[\"Y\"].unique()!=1 and tree.data!=-1):\n",
        "            data_split=self._split(data,j,feature)\n",
        "            self.fit_tree(data_split,tree.values[j])\n",
        "\n",
        "\n",
        "    def _predict_row(self,tree,row):\n",
        "        current_node=tree\n",
        "        feature = current_node.data\n",
        "        while(feature!=-1):\n",
        "            x=row[current_node.data]\n",
        "            current_node=current_node.values[int(row[current_node.data])]\n",
        "            feature = current_node.data\n",
        "        return current_node.predict\n",
        "\n",
        "\n",
        "    def predict (self, data,tree):\n",
        "\n",
        "        y = []\n",
        "\n",
        "        for i in range(data.shape[0]):\n",
        "            predicted_val = (self._predict_row(tree, data.iloc[[i]]))\n",
        "            y.append(predicted_val)\n",
        "        return y\n",
        "\n",
        "    def error (self, test_data,tree):\n",
        "        wrong_prediction_count = 0\n",
        "        predicted_values = self.predict(test_data,tree)\n",
        "        for i in range(len(predicted_values)):\n",
        "            if predicted_values[i] != test_data[\"Y\"][i]:\n",
        "                wrong_prediction_count+= 1\n",
        "        #print(predicted_values)\n",
        "        #print(test_data[\"Y\"])\n",
        "        return wrong_prediction_count/len(test_data)\n",
        "\n",
        "    #def fun(self, data):\n",
        "     #   m = data[0]\n",
        "      #  test_data = data[1]\n",
        "       # self.fit_tree(create_data(m),tree=None)\n",
        "        #iter_error=(self.error(test_data))\n",
        "        #return iter_error\n",
        "\n",
        "\n",
        "    def typical_error (self, tree,data):\n",
        "        #test_data = create_data(300)\n",
        "\n",
        "        for k in range(10):\n",
        "             iter_error=(self.error(data))\n",
        "             error_on_m.append(iter_error)\n",
        "        return sum(error_on_m)/10\n",
        "\n",
        "    def find_irrelevant_features(self,tree,feature_list):\n",
        "        temp=tree\n",
        "\n",
        "        if temp:\n",
        "\n",
        "           # print(temp.depth)\n",
        "            children = temp.values\n",
        "\n",
        "            if temp.data in [\"X15\",\"X16\",\"X17\",\"X18\",\"X19\",\"X20\"]:\n",
        "                feature_list.append(temp.data)\n",
        "\n",
        "            for i in children:\n",
        "                self.find_irrelevant_features(children[i],feature_list)\n",
        "\n",
        "        return set(feature_list)\n",
        "\n",
        "    def prune_by_depth(self,data, d, tree=None):\n",
        "        if tree is None:\n",
        "            tree=Node(predict=-1,depth=0)\n",
        "            self.tree=tree\n",
        "        if tree.depth==d or len(data[\"Y\"].unique())==1:\n",
        "            tree.data=-1\n",
        "            pruned_predict=data[\"Y\"].tolist()\n",
        "            tree.predict=(max(set(pruned_predict), key=pruned_predict.count))\n",
        "            return\n",
        "        info_gain = self._max_info_gain(data)\n",
        "        feature = max(info_gain, key=lambda k: info_gain[k])\n",
        "        tree.data = feature\n",
        "        for i in data[feature].unique():\n",
        "            temp = Node(predict=-1, depth=tree.depth + 1)\n",
        "            tree.values[i] = temp\n",
        "        for j in tree.values:\n",
        "            # if len(data[\"Y\"].unique()!=1 and tree.data!=-1):\n",
        "            data_split = self._split(data, j, feature)\n",
        "            self.prune_by_depth(data_split,d,tree.values[j])\n",
        "\n",
        "\n",
        "\n",
        "\n",
        " "
      ],
      "execution_count": 0,
      "outputs": []
    },
    {
      "metadata": {
        "id": "1NTOij0HgFWW",
        "colab_type": "code",
        "colab": {
          "base_uri": "https://localhost:8080/",
          "height": 550
        },
        "outputId": "c895fb9d-070a-4d28-f1e8-ad78ceb3a25c"
      },
      "cell_type": "code",
      "source": [
        "  dict_depth={}\n",
        "  size=[1,100,1000,10000,50000,100000] \n",
        "  for i in tqdm(size):\n",
        "    number_of_irr_features=0\n",
        "    for j in range(10):\n",
        "          feature_list=[]\n",
        "          model = DecisionTreeID3()\n",
        "          model.prune_by_depth(create_data(8000),8,model.tree)\n",
        "          number_of_irr_features+=len(model.find_irrelevant_features(model.tree,feature_list))\n",
        "    dict_depth[i]=(number_of_irr_features/10)\n",
        "    print(dict_depth)\n",
        "    \n",
        "    "
      ],
      "execution_count": 18,
      "outputs": [
        {
          "output_type": "stream",
          "text": [
            "\n",
            "\n",
            "\n",
            "  0%|          | 0/6 [00:00<?, ?it/s]\u001b[A\u001b[A\u001b[A\n",
            "\n",
            "\n",
            " 17%|█▋        | 1/6 [02:49<14:05, 169.16s/it]\u001b[A\u001b[A\u001b[A"
          ],
          "name": "stderr"
        },
        {
          "output_type": "stream",
          "text": [
            "{1: 1.9}\n"
          ],
          "name": "stdout"
        },
        {
          "output_type": "stream",
          "text": [
            "\n",
            "\n",
            "\n",
            " 33%|███▎      | 2/6 [05:37<11:15, 168.96s/it]\u001b[A\u001b[A\u001b[A"
          ],
          "name": "stderr"
        },
        {
          "output_type": "stream",
          "text": [
            "{1: 1.9, 100: 2.2}\n"
          ],
          "name": "stdout"
        },
        {
          "output_type": "stream",
          "text": [
            "\n",
            "\n",
            "\n",
            " 50%|█████     | 3/6 [08:26<08:27, 169.04s/it]\u001b[A\u001b[A\u001b[A"
          ],
          "name": "stderr"
        },
        {
          "output_type": "stream",
          "text": [
            "{1: 1.9, 100: 2.2, 1000: 2.2}\n"
          ],
          "name": "stdout"
        },
        {
          "output_type": "stream",
          "text": [
            "\n",
            "\n",
            "\n",
            " 67%|██████▋   | 4/6 [11:14<05:37, 168.76s/it]\u001b[A\u001b[A\u001b[A"
          ],
          "name": "stderr"
        },
        {
          "output_type": "stream",
          "text": [
            "{1: 1.9, 100: 2.2, 1000: 2.2, 10000: 2.4}\n"
          ],
          "name": "stdout"
        },
        {
          "output_type": "stream",
          "text": [
            "\n",
            "\n",
            "\n",
            " 83%|████████▎ | 5/6 [14:04<02:49, 169.03s/it]\u001b[A\u001b[A\u001b[A"
          ],
          "name": "stderr"
        },
        {
          "output_type": "stream",
          "text": [
            "{1: 1.9, 100: 2.2, 1000: 2.2, 10000: 2.4, 50000: 2.6}\n"
          ],
          "name": "stdout"
        },
        {
          "output_type": "stream",
          "text": [
            "\n",
            "\n",
            "\n",
            "100%|██████████| 6/6 [16:56<00:00, 169.87s/it]\u001b[A\u001b[A\u001b[A\n",
            "\n",
            "\n",
            "\u001b[A\u001b[A\u001b[A"
          ],
          "name": "stderr"
        },
        {
          "output_type": "stream",
          "text": [
            "{1: 1.9, 100: 2.2, 1000: 2.2, 10000: 2.4, 50000: 2.6, 100000: 2.2}\n"
          ],
          "name": "stdout"
        }
      ]
    },
    {
      "metadata": {
        "id": "BKUejIvLKzIa",
        "colab_type": "code",
        "colab": {
          "base_uri": "https://localhost:8080/",
          "height": 361
        },
        "outputId": "88fa5a44-7917-427c-bb78-7917d4c27893"
      },
      "cell_type": "code",
      "source": [
        " \n",
        "#dict_depth={0: 0.0, 1: 0.0, 2: 0.0, 3: 0.0, 4: 0.1, 5: 0.8, 6: 1.0, 7: 1.0, 8: 2.6, 9: 4.0, 10: 4.0, 11: 4.3, 12: 3.9, 13: 4.6, 14: 5.0, 15: 4.5, 16: 4.5, 17: 4.8}\n",
        "dict_depth\n",
        "import matplotlib.pylab as plt\n",
        "\n",
        "lists = sorted(dict_depth.items()) # sorted by key, return a list of tuples\n",
        "\n",
        "x, y = zip(*lists) # unpack a list of pairs into two tuples\n",
        "\n",
        "plt.plot(x, y)\n",
        "plt.xlabel(\"The size of train data applied to a tree pruned to level 8\")\n",
        "plt.ylabel(\"Number of spurious variables\")\n",
        "plt.show() "
      ],
      "execution_count": 19,
      "outputs": [
        {
          "output_type": "display_data",
          "data": {
            "image/png": "[encoded data removed]",
            "text/plain": [
              "<Figure size 576x396 with 1 Axes>"
            ]
          },
          "metadata": {
            "tags": []
          }
        }
      ]
    },
    {
      "metadata": {
        "id": "QXjKTcAOdmcS",
        "colab_type": "code",
        "colab": {
          "base_uri": "https://localhost:8080/",
          "height": 168
        },
        "outputId": "b31add5e-3d21-4d19-9007-2bf9cad23e3e"
      },
      "cell_type": "code",
      "source": [
        "dict_depth"
      ],
      "execution_count": 1,
      "outputs": [
        {
          "output_type": "error",
          "ename": "NameError",
          "evalue": "ignored",
          "traceback": [
            "\u001b[0;31m---------------------------------------------------------------------------\u001b[0m",
            "\u001b[0;31mNameError\u001b[0m                                 Traceback (most recent call last)",
            "\u001b[0;32m<ipython-input-1-31d76d6642cd>\u001b[0m in \u001b[0;36m<module>\u001b[0;34m()\u001b[0m\n\u001b[0;32m----> 1\u001b[0;31m \u001b[0mdict_depth\u001b[0m\u001b[0;34m\u001b[0m\u001b[0;34m\u001b[0m\u001b[0m\n\u001b[0m",
            "\u001b[0;31mNameError\u001b[0m: name 'dict_depth' is not defined"
          ]
        }
      ]
    }
  ]
}